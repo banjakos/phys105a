{
 "cells": [
  {
   "cell_type": "markdown",
   "id": "mineral-drama",
   "metadata": {
    "slideshow": {
     "slide_type": "slide"
    }
   },
   "source": [
    "## PHYS 105A:  Introduction to Scientific Computing\n",
    "\n",
    "# Statistics and Data Processing Methods\n",
    "\n",
    "Chi-kwan Chan"
   ]
  },
  {
   "cell_type": "markdown",
   "id": "tough-retrieval",
   "metadata": {
    "slideshow": {
     "slide_type": "slide"
    }
   },
   "source": [
    "## Project\n",
    "\n",
    "First thing first, the first project is due on March 11th 12:00am.  The project has twice as many as your assignment so we give you two weeks to work on it.  The goal of the project for you to take what you have learned from this course, and come up with an independent project and finish it.  You have learned python, C, random numbers, and you will learn some statistics today.  So acceptable projects include:\n",
    "\n",
    "- Dice roller generator: specifying the number and sides of the dice, plot the frequencies of the resulting number, and explain, for example, why rolling a single die of 12 sides is not the same as rolling 2 dice of six sides.\n",
    "\n",
    "- Perform a monte carlo simulation of the Monty Hall problem.\n",
    "\n",
    "- A more detailed study of Brownian motion and difussion.\n",
    "\n",
    "- Clebsch-Gordan coefficient calculator.\n",
    "\n",
    "- Sudoku solver.\n",
    "\n",
    "- ...\n",
    "\n",
    "Please plan your project, prepare a single slide, and discuss it with the class next week."
   ]
  },
  {
   "cell_type": "markdown",
   "id": "excessive-interference",
   "metadata": {
    "slideshow": {
     "slide_type": "slide"
    }
   },
   "source": [
    "## Using numerical and data science packages\n",
    "\n",
    "* This lecture is about statsittics, which means that we need to handle (relatively) large data sets.\n",
    "\n",
    "* While we have learned how to read in text files, handle lists, etc in pure python, it's useful to get some help!\n",
    "\n",
    "* At the end, python is so popular in Data Scinece because of all the packages the python community develop!\n",
    "\n",
    "* We will learn the basic of two packages: `numpy` and `pandas`."
   ]
  },
  {
   "cell_type": "markdown",
   "id": "civilian-basis",
   "metadata": {
    "slideshow": {
     "slide_type": "slide"
    }
   },
   "source": [
    "## `numpy`\n",
    "\n",
    "* We will start with the `numpy` package.\n",
    "\n",
    "* `numpy` enables array programming in python.  I.e., it enables us to work on a whole array of objects (numbers) \"in one go\" in python.\n",
    "\n",
    "* The backend functionality in `numpy` are written in C, making it very high performance.\n",
    "\n",
    "* The array programming model also provide a nature way to perform handle functions on arrays.\n",
    "\n",
    "* `numpy` is the core package that enables scientific computation in python.\n",
    "\n",
    "* There is a [nature paper](https://www.nature.com/articles/s41586-020-2649-2) on `numpy`!"
   ]
  },
  {
   "cell_type": "code",
   "execution_count": null,
   "id": "opposite-complaint",
   "metadata": {
    "slideshow": {
     "slide_type": "slide"
    }
   },
   "outputs": [],
   "source": [
    "from matplotlib import pyplot as plt\n",
    "from math import sin\n",
    "\n",
    "X = [0.1 * i for i in range(100)]\n",
    "F = [x * x for x in X]\n",
    "G = [100 * sin(x) for x in X]\n",
    "\n",
    "plt.plot(X, F)\n",
    "plt.plot(X, G)"
   ]
  },
  {
   "cell_type": "code",
   "execution_count": null,
   "id": "verbal-register",
   "metadata": {
    "slideshow": {
     "slide_type": "slide"
    }
   },
   "outputs": [],
   "source": [
    "import numpy as np\n",
    "\n",
    "X = np.linspace(0, 10, num=100)\n",
    "F = X * X\n",
    "G = 100 * np.sin(X)\n",
    "\n",
    "plt.plot(X, F)\n",
    "plt.plot(X, G)"
   ]
  },
  {
   "cell_type": "code",
   "execution_count": null,
   "id": "postal-vienna",
   "metadata": {
    "slideshow": {
     "slide_type": "slide"
    }
   },
   "outputs": [],
   "source": [
    "# X has a \"data type\"\n",
    "\n",
    "print(X.dtype)\n",
    "\n",
    "# All the values in a numpy array is densely packed as a C array.\n",
    "# Instead of a list of python object.\n",
    "# Numpy array always has a shape, which is a tuple of positive integers.\n",
    "# In 1D, the shape is the same as len()\n",
    "\n",
    "print(X.shape)\n",
    "print(len(X))\n",
    "\n",
    "# But in 2D, they are different\n",
    "\n",
    "Y = np.array([[1,2,3], [4,5,6]])\n",
    "\n",
    "print(Y)\n",
    "print(Y.shape)\n",
    "print(len(Y))"
   ]
  },
  {
   "cell_type": "code",
   "execution_count": null,
   "id": "refined-divorce",
   "metadata": {
    "slideshow": {
     "slide_type": "slide"
    }
   },
   "outputs": [],
   "source": [
    "# Numpy arrays, by default, operate in an \"element-wise\" way.\n",
    "\n",
    "print(Y + 2)\n",
    "print(Y * 2)\n",
    "print(Y * Y)\n",
    "\n",
    "# There is a large number of functions that also work in the \"element-wise\" fasion.\n",
    "\n",
    "print(np.sin(Y))\n",
    "print(np.cos(Y))\n",
    "print(Y ** 3)"
   ]
  },
  {
   "cell_type": "markdown",
   "id": "white-russian",
   "metadata": {
    "slideshow": {
     "slide_type": "slide"
    }
   },
   "source": [
    "## `pandas`\n",
    "\n",
    "* While numpy is the core of scientific computation in python, sometimes a large data set contains more information than a plain array.\n",
    "\n",
    "* For example, when you look at an excel spreadsheet, very often each column contains a different physical quality carrying different meaning and even unit (time, income, output).  Saying a spreadsheet is a 2D-array calculator is not totally fair.\n",
    "\n",
    "* The `pandas` package allows us to add that structure, and physical meaning, to different columns of a table.\n",
    "\n",
    "* `pandas` is one of the main package that makes data science work in python!"
   ]
  },
  {
   "cell_type": "code",
   "execution_count": null,
   "id": "current-harassment",
   "metadata": {
    "slideshow": {
     "slide_type": "slide"
    }
   },
   "outputs": [],
   "source": [
    "import pandas as pd\n",
    "\n",
    "# The most useful data structure of pandas is a DataFrame, which is more or less a table of 2D array.\n",
    "df = pd.DataFrame([[1,2,3], [4,5,6]])\n",
    "display(df)\n",
    "\n",
    "# The difference is that you can assign meaning to different columns, such as index and column name\n",
    "df = pd.DataFrame([[1,2,3], [4,5,6]], columns=['a', 'b', 'c'])\n",
    "display(df)\n",
    "\n",
    "# Now it is possible to access the diffrent columns by name\n",
    "print(df['a']) # access by key\n",
    "print(df.a)    # access by attribute"
   ]
  },
  {
   "cell_type": "code",
   "execution_count": null,
   "id": "ideal-camping",
   "metadata": {
    "slideshow": {
     "slide_type": "slide"
    }
   },
   "outputs": [],
   "source": [
    "# It is easy to create a new columns in pandas DataFrame\n",
    "\n",
    "df['sum']  =  df.a + df.b + df.c\n",
    "df['mean'] = (df.a + df.b + df.c) / 3\n",
    "\n",
    "# Note that each column acts as a numpy array, that we can perform \"element-wise\" operations\n",
    "\n",
    "display(df)\n",
    "\n",
    "# We may also see a pandas DataFrame as a database.\n",
    "# Then it makes sense to \"drop\" information...\n",
    "\n",
    "df = df.drop(['sum', 'mean'], axis=1)\n",
    "\n",
    "display(df)"
   ]
  },
  {
   "cell_type": "code",
   "execution_count": null,
   "id": "recreational-tucson",
   "metadata": {},
   "outputs": [],
   "source": [
    "# Since DataFrame is like a database, we may as pandas to perform some operation \"per row\" for us.\n",
    "\n",
    "display(df.apply(np.sum, axis=1))\n",
    "\n",
    "# We can of course add the resulting column back to the DataFrame\n",
    "\n",
    "df['mean'] = df.apply(np.mean, axis=1)\n",
    "display(df)"
   ]
  },
  {
   "cell_type": "code",
   "execution_count": null,
   "id": "polar-laptop",
   "metadata": {},
   "outputs": [],
   "source": []
  }
 ],
 "metadata": {
  "celltoolbar": "Slideshow",
  "kernelspec": {
   "display_name": "Python 3",
   "language": "python",
   "name": "python3"
  },
  "language_info": {
   "codemirror_mode": {
    "name": "ipython",
    "version": 3
   },
   "file_extension": ".py",
   "mimetype": "text/x-python",
   "name": "python",
   "nbconvert_exporter": "python",
   "pygments_lexer": "ipython3",
   "version": "3.8.8"
  }
 },
 "nbformat": 4,
 "nbformat_minor": 5
}
