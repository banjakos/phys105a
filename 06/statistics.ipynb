{
 "cells": [
  {
   "cell_type": "markdown",
   "id": "mineral-drama",
   "metadata": {
    "slideshow": {
     "slide_type": "slide"
    }
   },
   "source": [
    "## PHYS 105A:  Introduction to Scientific Computing\n",
    "\n",
    "# `numpy` and `pandas`\n",
    "\n",
    "Chi-kwan Chan"
   ]
  },
  {
   "cell_type": "markdown",
   "id": "tough-retrieval",
   "metadata": {
    "slideshow": {
     "slide_type": "slide"
    }
   },
   "source": [
    "## Project\n",
    "\n",
    "First thing first, the first project is due on March 11th 12:00am.  The project has twice as many as your assignment so we give you two weeks to work on it.  The goal of the project for you to take what you have learned from this course, and come up with an independent project and finish it.  You have learned python, C, random numbers, and you will learn some statistics today.  So acceptable projects include:\n",
    "\n",
    "- Dice roller generator: specifying the number and sides of the dice, plot the frequencies of the resulting number, and explain, for example, why rolling a single die of 12 sides is not the same as rolling 2 dice of six sides.\n",
    "\n",
    "- Perform a monte carlo simulation of the Monty Hall problem.\n",
    "\n",
    "- A more detailed study of Brownian motion and difussion.\n",
    "\n",
    "- Clebsch-Gordan coefficient calculator.\n",
    "\n",
    "- Sudoku solver.\n",
    "\n",
    "- ...\n",
    "\n",
    "Please plan your project, prepare a single slide, and discuss it with the class next week."
   ]
  },
  {
   "cell_type": "markdown",
   "id": "excessive-interference",
   "metadata": {
    "slideshow": {
     "slide_type": "slide"
    }
   },
   "source": [
    "## Using numerical and data science packages\n",
    "\n",
    "* This lecture is about statsittics, which means that we need to handle (relatively) large data sets.\n",
    "\n",
    "* While we have learned how to read in text files, handle lists, etc in pure python, it's useful to get some help!\n",
    "\n",
    "* At the end, python is so popular in Data Scinece because of all the packages the python community develop!\n",
    "\n",
    "* We will learn the basic of two packages: `numpy` and `pandas`."
   ]
  },
  {
   "cell_type": "markdown",
   "id": "civilian-basis",
   "metadata": {
    "slideshow": {
     "slide_type": "slide"
    }
   },
   "source": [
    "## `numpy`\n",
    "\n",
    "* We will start with the `numpy` package.\n",
    "\n",
    "* `numpy` enables array programming in python.  I.e., it enables us to work on a whole array of objects (numbers) \"in one go\" in python.\n",
    "\n",
    "* The backend functionality in `numpy` are written in C, making it very high performance.\n",
    "\n",
    "* The array programming model also provide a nature way to perform handle functions on arrays.\n",
    "\n",
    "* `numpy` is the core package that enables scientific computation in python.\n",
    "\n",
    "* There is a [nature paper](https://www.nature.com/articles/s41586-020-2649-2) on `numpy`!"
   ]
  },
  {
   "cell_type": "code",
   "execution_count": null,
   "id": "english-living",
   "metadata": {
    "slideshow": {
     "slide_type": "slide"
    }
   },
   "outputs": [],
   "source": [
    "from matplotlib import pyplot as plt\n",
    "from math import sin\n",
    "\n",
    "X = [0.1 * i for i in range(100)]\n",
    "F = [x * x for x in X]\n",
    "G = [100 * sin(x) for x in X]\n",
    "\n",
    "plt.plot(X, F)\n",
    "plt.plot(X, G)"
   ]
  },
  {
   "cell_type": "code",
   "execution_count": null,
   "id": "greek-illustration",
   "metadata": {
    "slideshow": {
     "slide_type": "slide"
    }
   },
   "outputs": [],
   "source": [
    "import numpy as np\n",
    "\n",
    "X = np.linspace(0, 10, num=100)\n",
    "F = X * X\n",
    "G = 100 * np.sin(X)\n",
    "\n",
    "plt.plot(X, F)\n",
    "plt.plot(X, G)"
   ]
  },
  {
   "cell_type": "code",
   "execution_count": null,
   "id": "alpine-redhead",
   "metadata": {
    "slideshow": {
     "slide_type": "slide"
    }
   },
   "outputs": [],
   "source": [
    "# X has a \"data type\"\n",
    "\n",
    "print(X.dtype)\n",
    "\n",
    "# All the values in a numpy array is densely packed as a C array.\n",
    "# Instead of a list of python object.\n",
    "# Numpy array always has a shape, which is a tuple of positive integers.\n",
    "# In 1D, the shape is the same as len()\n",
    "\n",
    "print(X.shape)\n",
    "print(len(X))\n",
    "\n",
    "# But in 2D, they are different\n",
    "\n",
    "Y = np.array([[1,2,3], [4,5,6]])\n",
    "\n",
    "print(Y)\n",
    "print(Y.shape)\n",
    "print(len(Y))"
   ]
  },
  {
   "cell_type": "code",
   "execution_count": null,
   "id": "funded-match",
   "metadata": {
    "slideshow": {
     "slide_type": "slide"
    }
   },
   "outputs": [],
   "source": [
    "# Numpy arrays, by default, operate in an \"element-wise\" way.\n",
    "\n",
    "print(Y + 2)\n",
    "print(Y * 2)\n",
    "print(Y * Y)\n",
    "\n",
    "# There is a large number of functions that also work in the \"element-wise\" fasion.\n",
    "\n",
    "print(np.sin(Y))\n",
    "print(np.cos(Y))\n",
    "print(Y ** 3)"
   ]
  },
  {
   "cell_type": "markdown",
   "id": "chubby-unknown",
   "metadata": {
    "slideshow": {
     "slide_type": "slide"
    }
   },
   "source": [
    "## `pandas`\n",
    "\n",
    "* While numpy is the core of scientific computation in python, sometimes a large data set contains more information than a plain array.\n",
    "\n",
    "* For example, when you look at an excel spreadsheet, very often each column contains a different physical quality carrying different meaning and even unit (time, income, output).  Saying a spreadsheet is a 2D-array calculator is not totally fair.\n",
    "\n",
    "* The `pandas` package allows us to add that structure, and physical meaning, to different columns of a table.\n",
    "\n",
    "* `pandas` is one of the main package that makes data science work in python!"
   ]
  },
  {
   "cell_type": "code",
   "execution_count": null,
   "id": "super-optics",
   "metadata": {
    "slideshow": {
     "slide_type": "slide"
    }
   },
   "outputs": [],
   "source": [
    "import pandas as pd\n",
    "\n",
    "# The most useful data structure of pandas is a DataFrame, which is more or less a table of 2D array.\n",
    "df = pd.DataFrame([[1,2,3], [4,5,6]])\n",
    "display(df)\n",
    "\n",
    "# The difference is that you can assign meaning to different columns, such as index and column name\n",
    "df = pd.DataFrame([[1,2,3], [4,5,6]], columns=['a', 'b', 'c'])\n",
    "display(df)\n",
    "\n",
    "# Now it is possible to access the diffrent columns by name\n",
    "print(df['a']) # access by key\n",
    "print(df.a)    # access by attribute"
   ]
  },
  {
   "cell_type": "code",
   "execution_count": null,
   "id": "sudden-irrigation",
   "metadata": {
    "slideshow": {
     "slide_type": "slide"
    }
   },
   "outputs": [],
   "source": [
    "# It is easy to create a new columns in pandas DataFrame\n",
    "\n",
    "df['sum']  =  df.a + df.b + df.c\n",
    "df['mean'] = (df.a + df.b + df.c) / 3\n",
    "\n",
    "# Note that each column acts as a numpy array, that we can perform \"element-wise\" operations\n",
    "\n",
    "display(df)\n",
    "\n",
    "# We may also see a pandas DataFrame as a database.\n",
    "# Then it makes sense to \"drop\" information...\n",
    "\n",
    "df = df.drop(['sum', 'mean'], axis=1)\n",
    "\n",
    "display(df)"
   ]
  },
  {
   "cell_type": "code",
   "execution_count": null,
   "id": "played-modern",
   "metadata": {
    "slideshow": {
     "slide_type": "slide"
    }
   },
   "outputs": [],
   "source": [
    "# Since DataFrame is like a database, we may as pandas to perform some operation \"per row\" for us.\n",
    "\n",
    "display(df.apply(np.sum, axis=1))\n",
    "\n",
    "# We can of course add the resulting column back to the DataFrame\n",
    "\n",
    "df['mean'] = df.apply(np.mean, axis=1)\n",
    "display(df)"
   ]
  },
  {
   "cell_type": "markdown",
   "id": "photographic-backing",
   "metadata": {
    "slideshow": {
     "slide_type": "slide"
    }
   },
   "source": [
    "## Data I/O\n",
    "\n",
    "* In addition to computation, `numpy` and `pandas` are also great for I/O.\n",
    "\n",
    "* We learned in a previous assignment how to use pure python to read in data from text files.  However, as data sets become more complex, programming your own file reader gets more difficult.\n",
    "\n",
    "* `numpy` and `pandas` both provide very good text file reader.\n",
    "\n",
    "* Specifically, we will use `pandas`'s `read_csv()` function."
   ]
  },
  {
   "cell_type": "code",
   "execution_count": null,
   "id": "interim-christianity",
   "metadata": {
    "slideshow": {
     "slide_type": "slide"
    }
   },
   "outputs": [],
   "source": [
    "# It is actually possible to run shell command in Jupyter notebook.\n",
    "# We simply start with a \"!\".\n",
    "# Let's first look at what files we have in this directory:\n",
    "\n",
    "!ls\n",
    "\n",
    "# We would like to load the \"temperature.csv\" file.\n",
    "# Let's use the Unix command `head` to show what is in it:\n",
    "\n",
    "! head temperature.csv\n",
    "\n",
    "# This file actually contains the world temperature as function of time for the last ~ 150 years!"
   ]
  },
  {
   "cell_type": "code",
   "execution_count": null,
   "id": "technological-walnut",
   "metadata": {
    "slideshow": {
     "slide_type": "slide"
    }
   },
   "outputs": [],
   "source": [
    "# Let's load this file using pandas:\n",
    "\n",
    "df = pd.read_csv('temperature.csv')\n",
    "\n",
    "# That's it!  No file opening, no for loop!\n",
    "\n",
    "display(df)"
   ]
  },
  {
   "cell_type": "code",
   "execution_count": null,
   "id": "theoretical-titanium",
   "metadata": {
    "slideshow": {
     "slide_type": "slide"
    }
   },
   "outputs": [],
   "source": [
    "# We may now plot the data set.\n",
    "# The plot will take some time.  What's going on?\n",
    "\n",
    "plt.plot(df.date, df.temperature)"
   ]
  },
  {
   "cell_type": "code",
   "execution_count": null,
   "id": "blank-fight",
   "metadata": {
    "slideshow": {
     "slide_type": "slide"
    }
   },
   "outputs": [],
   "source": [
    "# It turns out that the the \"date\" column is still in string!\n",
    "# And matplotlib is slow in figure out the labels of the x-axis.\n",
    "\n",
    "df.date"
   ]
  },
  {
   "cell_type": "code",
   "execution_count": null,
   "id": "crude-chorus",
   "metadata": {
    "slideshow": {
     "slide_type": "slide"
    }
   },
   "outputs": [],
   "source": [
    "# Fortuantely, pandas has a \"datetime\" type that can help us fix it.\n",
    "\n",
    "df.date = pd.to_datetime(df.date)\n",
    "df.date"
   ]
  },
  {
   "cell_type": "code",
   "execution_count": null,
   "id": "contemporary-thomson",
   "metadata": {
    "slideshow": {
     "slide_type": "slide"
    }
   },
   "outputs": [],
   "source": [
    "# Now plotting should take less than a second!\n",
    "# Data type is important!\n",
    "\n",
    "plt.plot(df.date, df.temperature)"
   ]
  },
  {
   "cell_type": "code",
   "execution_count": null,
   "id": "loaded-orange",
   "metadata": {
    "slideshow": {
     "slide_type": "slide"
    }
   },
   "outputs": [],
   "source": [
    "# Pandas is extremely powerful in collective operations.\n",
    "# For example, we can group the pandas DataFrame by different information, e.g., year.\n",
    "# We can then apply mathematical operations on a whole group.\n",
    "\n",
    "ym = df.groupby(by=[df.date.dt.year]).mean()\n",
    "\n",
    "display(ym)\n",
    "\n",
    "plt.plot(ym.index, ym.temperature)\n",
    "plt.title('Global Warming')"
   ]
  },
  {
   "cell_type": "code",
   "execution_count": null,
   "id": "needed-landing",
   "metadata": {
    "slideshow": {
     "slide_type": "slide"
    }
   },
   "outputs": [],
   "source": [
    "ym = df.groupby(by=[df.date.dt.month]).mean()\n",
    "\n",
    "display(ym)\n",
    "\n",
    "plt.plot(ym.index, ym.temperature)\n",
    "plt.title('Seasonal changes')"
   ]
  }
 ],
 "metadata": {
  "celltoolbar": "Slideshow",
  "kernelspec": {
   "display_name": "Python 3",
   "language": "python",
   "name": "python3"
  },
  "language_info": {
   "codemirror_mode": {
    "name": "ipython",
    "version": 3
   },
   "file_extension": ".py",
   "mimetype": "text/x-python",
   "name": "python",
   "nbconvert_exporter": "python",
   "pygments_lexer": "ipython3",
   "version": "3.8.8"
  }
 },
 "nbformat": 4,
 "nbformat_minor": 5
}
