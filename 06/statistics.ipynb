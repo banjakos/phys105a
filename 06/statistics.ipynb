{
 "cells": [
  {
   "cell_type": "markdown",
   "id": "ancient-pointer",
   "metadata": {
    "slideshow": {
     "slide_type": "slide"
    }
   },
   "source": [
    "## PHYS 105A:  Introduction to Scientific Computing\n",
    "\n",
    "# Statistics and Data Processing Methods\n",
    "\n",
    "Chi-kwan Chan"
   ]
  },
  {
   "cell_type": "markdown",
   "id": "manual-turner",
   "metadata": {
    "slideshow": {
     "slide_type": "slide"
    }
   },
   "source": [
    "## Project\n",
    "\n",
    "First thing first, the first project is due on March 11th 12:00am.  The project has twice as many as your assignment so we give you two weeks to work on it.  The goal of the project for you to take what you have learned from this course, and come up with an independent project and finish it.  You have learned python, C, random numbers, and you will learn some statistics today.  So acceptable projects include:\n",
    "\n",
    "- Dice roller generator: specifying the number and sides of the dice, plot the frequencies of the resulting number, and explain, for example, why rolling a single die of 12 sides is not the same as rolling 2 dice of six sides.\n",
    "\n",
    "- Perform a monte carlo simulation of the Monty Hall problem.\n",
    "\n",
    "- A more detailed study of Brownian motion and difussion.\n",
    "\n",
    "- Clebsch-Gordan coefficient calculator.\n",
    "\n",
    "- Sudoku solver.\n",
    "\n",
    "- ...\n",
    "\n",
    "Please plan your project, prepare a single slide, and discuss it with the class next week."
   ]
  },
  {
   "cell_type": "code",
   "execution_count": null,
   "id": "exact-specification",
   "metadata": {},
   "outputs": [],
   "source": []
  }
 ],
 "metadata": {
  "celltoolbar": "Slideshow",
  "kernelspec": {
   "display_name": "Python 3",
   "language": "python",
   "name": "python3"
  },
  "language_info": {
   "codemirror_mode": {
    "name": "ipython",
    "version": 3
   },
   "file_extension": ".py",
   "mimetype": "text/x-python",
   "name": "python",
   "nbconvert_exporter": "python",
   "pygments_lexer": "ipython3",
   "version": "3.8.8"
  }
 },
 "nbformat": 4,
 "nbformat_minor": 5
}
