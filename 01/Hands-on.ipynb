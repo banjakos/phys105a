{
 "cells": [
  {
   "cell_type": "markdown",
   "metadata": {
    "slideshow": {
     "slide_type": "slide"
    }
   },
   "source": [
    "## PHYS 105A:  Introduction to Scientific Computing\n",
    "\n",
    "# Hands-on\n",
    "\n",
    "Chi-kwan Chan"
   ]
  },
  {
   "cell_type": "markdown",
   "metadata": {
    "slideshow": {
     "slide_type": "slide"
    }
   },
   "source": [
    "## Sign up for accounts\n",
    "\n",
    "Please sign up an account on GitHub: https://github.com/\n",
    "\n",
    "You will use it to submit your assignments."
   ]
  },
  {
   "cell_type": "markdown",
   "metadata": {
    "slideshow": {
     "slide_type": "slide"
    }
   },
   "source": [
    "## Set up development environment\n",
    "\n",
    "* Terminal/shell\n",
    "\n",
    "* `Git`\n",
    "\n",
    "* `Python` and Jupyter Notebook/Lab\n",
    "  * Windows\n",
    "    * Anaconda: https://www.anaconda.com/products/individual\n",
    "  * Mac\n",
    "    * Anaconda: https://www.anaconda.com/products/individual\n",
    "    * Macports: https://www.macports.org/install.php `sudo port selfupdate && sudo port install py38-jupyter`\n",
    "    * Homebew:  https://brew.sh/ `brew install jupyter`\n",
    "  * Linux:\n",
    "    * Anaconda: https://www.anaconda.com/products/individual\n",
    "    * apt-get:  `sudo apt update && sudo apt install jupyter-notebook`"
   ]
  },
  {
   "cell_type": "code",
   "execution_count": null,
   "metadata": {},
   "outputs": [],
   "source": []
  }
 ],
 "metadata": {
  "celltoolbar": "Slideshow",
  "kernelspec": {
   "display_name": "Python 3",
   "language": "python",
   "name": "python3"
  },
  "language_info": {
   "codemirror_mode": {
    "name": "ipython",
    "version": 3
   },
   "file_extension": ".py",
   "mimetype": "text/x-python",
   "name": "python",
   "nbconvert_exporter": "python",
   "pygments_lexer": "ipython3",
   "version": "3.8.7"
  }
 },
 "nbformat": 4,
 "nbformat_minor": 4
}
