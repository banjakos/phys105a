{
 "cells": [
  {
   "cell_type": "markdown",
   "id": "intellectual-accreditation",
   "metadata": {
    "slideshow": {
     "slide_type": "slide"
    }
   },
   "source": [
    "## PHYS 105A:  Introduction to Scientific Computing\n",
    "\n",
    "# The C programming language\n",
    "\n",
    "Chi-kwan Chan"
   ]
  },
  {
   "cell_type": "code",
   "execution_count": 1,
   "id": "patient-event",
   "metadata": {
    "slideshow": {
     "slide_type": "slide"
    }
   },
   "outputs": [
    {
     "name": "stdout",
     "output_type": "stream",
     "text": [
      "CPU times: user 52.1 s, sys: 429 ms, total: 52.5 s\n",
      "Wall time: 51.7 s\n"
     ]
    },
    {
     "data": {
      "text/plain": [
       "[<matplotlib.lines.Line2D at 0x1530d6550>]"
      ]
     },
     "execution_count": 1,
     "metadata": {},
     "output_type": "execute_result"
    },
    {
     "data": {
      "image/png": "[encoded data removed]",
      "text/plain": [
       "<Figure size 432x288 with 1 Axes>"
      ]
     },
     "metadata": {
      "needs_background": "light"
     },
     "output_type": "display_data"
    }
   ],
   "source": [
    "%%time\n",
    "\n",
    "# What we did last time... how long does this piece of code take to run?\n",
    "\n",
    "import random as rnd\n",
    "from matplotlib import pyplot as plt\n",
    "\n",
    "def randomwalk(n_steps=1000):\n",
    "    X = [0] # initial position\n",
    "    \n",
    "    for t in range(n_steps):\n",
    "        last = X[-1]            # last position\n",
    "        r    = rnd.randint(0,1) # we generate 0 or 1 randomly\n",
    "        if r == 0:              # depending on r, we step left or right\n",
    "            curr = last + 1\n",
    "        else:\n",
    "            curr = last - 1    \n",
    "        X.append(curr)          # append the current position to the list X\n",
    "        \n",
    "    return X                    # return the result\n",
    "\n",
    "n_trials = 100\n",
    "T = range(1, 1000+1)\n",
    "D = []\n",
    "for t in T:  # M = 0; M += m ...; M /= N  => mean of m\n",
    "    M = 0\n",
    "    for trial in range(n_trials):\n",
    "        X  = randomwalk(t)\n",
    "        M += abs(X[-1])\n",
    "    M /= n_trials\n",
    "    D.append(M)\n",
    "    \n",
    "plt.loglog(T, D)\n",
    "plt.plot(T, [t**0.5 for t in T]) # y = sqrt(x)"
   ]
  },
  {
   "cell_type": "markdown",
   "id": "wound-alcohol",
   "metadata": {
    "slideshow": {
     "slide_type": "slide"
    }
   },
   "source": [
    "## Performance\n",
    "\n",
    "* When we sovled the random walk and Brownian motion problems last time, or compute $\\pi$ and try to study its convergnece rate, our computers didn't give us the answer immediate.\n",
    "\n",
    "* This was a pretty simple problem... why did it take so long?\n",
    "\n",
    "* One of the reasons is that we use python.\n",
    "\n",
    "* Python, being an interpreted lagnauge, is slow in nature.\n",
    "\n",
    "* Because one of the goals of this course is to see many many tools---so try to implement the same problem in a compiled langauge!"
   ]
  },
  {
   "cell_type": "markdown",
   "id": "commercial-brown",
   "metadata": {
    "slideshow": {
     "slide_type": "slide"
    }
   },
   "source": [
    "## Which Language to Choose?\n",
    "\n",
    "* In the second lecture, we had a quick introduction to the Unix/Linux operating systems.  And we saw these two gentlemen: Ken Thompson and Dennis Ritchie.\n",
    "\n",
    "* In those early day, one thing that made Unix stood out from its competitors was that it was developed in a \"high level programming language\" C.  Dennis Ritchie is actually the inventor of C.\n",
    "\n",
    "* The popularity and powerfulness of Unix and C go hand-in-hand.\n",
    "\n",
    "* Even C was invented in 1972 (49 years ago!), it is still the [*MOST POPULAR* programming language](https://www.tiobe.com/tiobe-index/) today!\n",
    "\n",
    "* It's very inferential and its syntax shows up in many modern laguages such as C++, Go, Rust, etc.\n",
    "\n",
    "![Ken Thompson and Dennis Ritchie](https://upload.wikimedia.org/wikipedia/commons/1/1b/Ken_Thompson_and_Dennis_Ritchie--1973.jpg \"Ken Thompson and Dennis Ritchie\")"
   ]
  },
  {
   "cell_type": "markdown",
   "id": "periodic-armstrong",
   "metadata": {
    "slideshow": {
     "slide_type": "slide"
    }
   },
   "source": [
    "# The C Programming Language\n",
    "\n",
    "![C](https://encrypted-tbn0.gstatic.com/images?q=tbn:ANd9GcQay_31fsabgktZbn76EtixolthTffPuHhTNMTX7782iZ9oJz8Z)"
   ]
  },
  {
   "cell_type": "markdown",
   "id": "interim-information",
   "metadata": {
    "slideshow": {
     "slide_type": "slide"
    }
   },
   "source": [
    "## Compiler\n",
    "\n",
    "* First thing to know, C is a compiled language.  You need a *compiler* to use it.\n",
    "\n",
    "* A copmiler is a program that translate your program from human readable source codes into machine readable executables.\n",
    "\n",
    "* On Unix/Linux/Mac, the most popular choices are `gcc` and `clang`.\n",
    "\n",
    "* On Windows, you may use:\n",
    "  * C/C++ for Visual Studio Code: https://code.visualstudio.com/docs/languages/cpp\n",
    "  * Visual Studio Community Edition: https://visualstudio.microsoft.com/downloads/\n",
    "  * Tiny C Compiler: https://bellard.org/tcc/\n",
    "  * GCC: https://gcc.gnu.org/install/binaries.html"
   ]
  },
  {
   "cell_type": "markdown",
   "id": "wooden-intensity",
   "metadata": {
    "slideshow": {
     "slide_type": "slide"
    }
   },
   "source": [
    "## Hello World in C\n",
    "\n",
    "* The following is the text inside a plan text file with \".c\" extension, e.g., \"hw.c\"\n",
    "\n",
    "      #include <stdio.h> /* I/O is not built-in to the language; include standard library */\n",
    "      int main()         /* a program always uses `main` as an entry point */\n",
    "      {\n",
    "        printf(\"Hello World!\\n\"); /* use \"format-print\" for output */\n",
    "        return 0;                 /* the standard is to return 0 from main if no error */\n",
    "      }\n",
    "        \n",
    "* Running \"hw.c\" does not work.  You need to first compile it:\n",
    "\n",
    "      gcc hw.c -o hw.exe\n",
    "      \n",
    "  the above command would compile the \"hw.c\" program into the executable \"hw.exe\".  The \".exe\" extension is optional on Unix/Linux.\n",
    "\n",
    "* Now you can run the program by:\n",
    "\n",
    "      ./hw\n",
    "  \n",
    "  which outputs \"Hello World!\""
   ]
  },
  {
   "cell_type": "markdown",
   "id": "vertical-manhattan",
   "metadata": {
    "slideshow": {
     "slide_type": "slide"
    }
   },
   "source": [
    "## Python vs C\n",
    "\n",
    "Python                     | C\n",
    ":--                        | :--\n",
    "`import package`           | `#include <package.h>` and then link with `gcc ... -lpackage`\n",
    "Dynamic type               | `int`, `double`, `char []`\n",
    "`def func(): ...`          | `double func(double x) {...}`\n",
    "Must use indentation       | Indentation optional; use `{...}` for block\n",
    "New line for new statement | `;` to end a statement\n",
    "`print(x)`                 | `printf(\"%g\\n\", x);`\n",
    "`return x`                 | `return x;`\n",
    "`if x == 1: ... else: ...` | `if (x == 1) {...} else {...}`\n",
    "`for i in range(10): ...`  | `for (int i = 0; i < 10; ++i) {...}`\n",
    "`/` vs `//` for divisions  | `/` behavior depends on type\n",
    "`**` for power             | `#include <math.h>` and then use `pow(x, y` for power; need to link with `gcc ... -lm`\n",
    "`# ...` for comments       | `/* ... */` or `//...` for comments"
   ]
  },
  {
   "cell_type": "code",
   "execution_count": null,
   "id": "friendly-paper",
   "metadata": {},
   "outputs": [],
   "source": []
  }
 ],
 "metadata": {
  "celltoolbar": "Slideshow",
  "kernelspec": {
   "display_name": "Python 3",
   "language": "python",
   "name": "python3"
  },
  "language_info": {
   "codemirror_mode": {
    "name": "ipython",
    "version": 3
   },
   "file_extension": ".py",
   "mimetype": "text/x-python",
   "name": "python",
   "nbconvert_exporter": "python",
   "pygments_lexer": "ipython3",
   "version": "3.8.7"
  }
 },
 "nbformat": 4,
 "nbformat_minor": 5
}
