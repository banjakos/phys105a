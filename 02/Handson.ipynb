{
 "cells": [
  {
   "cell_type": "markdown",
   "metadata": {},
   "source": [
    "## PHYS 105A:  Introduction to Scientific Computing\n",
    "\n",
    "# Unix shells, Remote Login, Version Control, etc\n",
    "\n",
    "Chi-kwan Chan"
   ]
  },
  {
   "cell_type": "markdown",
   "metadata": {},
   "source": [
    "In order to follow this hands-on exercise, you will need to have the following software installed on your system:\n",
    "\n",
    "* Terminal (built-in for windows, mac, and linux)\n",
    "* A Unix shell (Windows Subsystem for Linux; built-in for mac and linux)\n",
    "* Git\n",
    "* Jupyter Notebook or Jupyter Lab\n",
    "* Python 3.x\n",
    "\n",
    "The easiest way to install these software is to use [Anaconda](https://www.anaconda.com/).\n",
    "Nevertheless, you may use macports or homebrew to install these tools on Mac, and `apt` to install these tools on Linux.  For windows, you may enable the Windows Subsystem for Linux (WSL) to get a Unix shell."
   ]
  },
  {
   "cell_type": "markdown",
   "metadata": {},
   "source": [
    "## Terminal and Unix Shell\n",
    "\n",
    "This step is trivial if you are on Linux or on a Mac.  Simply open up your terminal and you will be given `bash` or `zsh`.\n",
    "\n",
    "If you are on Windows, you may start `cmd`, \"Windows PowerShell\", or the \"Windows Subsystem for Linux\".\n",
    "The former two don't give you a Unix shell, but you can still use it to navigate your file system, run `git`, etc.\n",
    "The last option is actually running a full Ubuntu envirnoment that will give you `bash`."
   ]
  },
  {
   "cell_type": "markdown",
   "metadata": {},
   "source": [
    "## Once you are on a bash/zsh, try the following commands\n",
    "\n",
    "    echo \"Hello World\" # the infamous hello world program!\n",
    "    ls\n",
    "    echo \"Hello World\" > hw.txt\n",
    "    ls\n",
    "    cat hw.txt\n",
    "    mv hw.txt hello.txt\n",
    "    cp hello.txt world.txt\n",
    "    \n",
    "Awesome!  You are now a shell user!"
   ]
  },
  {
   "cell_type": "markdown",
   "metadata": {},
   "source": [
    "## Git \n",
    "\n",
    "### Pre-request\n",
    "\n",
    "* Have a GitHub account\n",
    "* Have Jupyter Lab set up on your machine\n",
    "* Have `git` (can be installed by conda)\n",
    "\n",
    "### Set up development environment\n",
    "\n",
    "* `git config --global user.name \"John Doe\"`\n",
    "* `git config --global user.email johndoe@arizona.edu`\n",
    "\n",
    "* Editor\n",
    "  * `vim`\n",
    "  * `emacs`\n",
    "  * VSCode: https://code.visualstudio.com/\n",
    "  * Atom:   https://atom.io/\n",
    "  * Built-in text editor of Jupyter Lab"
   ]
  },
  {
   "cell_type": "markdown",
   "metadata": {},
   "source": [
    "## Clone Course Repository\n",
    "\n",
    "With a shell, you can now clone/copy the PHYS105A repository to your computer:\n",
    "    \n",
    "    git clone git@github.com:uarizona-2021spring-phys105a/phys105a.git\n",
    "    cd phys105a\n",
    "    ls\n",
    "    \n",
    "You may now add a file, commit it to git, and push it back to GitHub:\n",
    "\n",
    "    echo \"Hello World\" > hw.txt\n",
    "    git add .\n",
    "    git commit -m 'hello world'\n",
    "    git log\n",
    "    git push"
   ]
  },
  {
   "cell_type": "markdown",
   "metadata": {},
   "source": [
    "## Jupyter Notebook\n",
    "\n",
    "A Jupyter Notebook is a JSON document containing multiple cells of text and codes.  These cells maybe:\n",
    "\n",
    "* Markdown documentation\n",
    "* Codes in `python`, `R`, or even `bash`!\n",
    "* Output of the codes\n",
    "* RAW text"
   ]
  },
  {
   "cell_type": "markdown",
   "metadata": {},
   "source": [
    "## Markdown Demo\n",
    "\n",
    "This is a markdown demo.  Try edit this cell to see how things work.\n",
    "\n",
    "See https://guides.github.com/features/mastering-markdown/ for more details.\n",
    "\n",
    "\n",
    "# This is an `<h1>` tag\n",
    "## This is an `<h2>` tag\n",
    "###### This is an `<h6>` tag\n",
    "\n",
    "*This text will be italic*\n",
    "_This will also be italic_\n",
    "\n",
    "**This text will be bold**\n",
    "__This will also be bold__\n",
    "\n",
    "_You **can** combine them_\n",
    "\n",
    "* Item 1\n",
    "* Item 2\n",
    "  * Item 2a\n",
    "  * Item 2b\n",
    "  \n",
    "1. Item 1\n",
    "1. Item 2\n",
    "1. Item 3\n",
    "   1. Item 3a\n",
    "   1. Item 3b"
   ]
  },
  {
   "cell_type": "code",
   "execution_count": 3,
   "metadata": {},
   "outputs": [
    {
     "data": {
      "text/plain": [
       "10"
      ]
     },
     "execution_count": 3,
     "metadata": {},
     "output_type": "execute_result"
    }
   ],
   "source": [
    "## Python and Jupyter\n",
    "\n",
    "# We can finally try jupyter and python as your calculator.\n",
    "# Type some math formulas, then press Shift+Enter, jupyter will interpret your equations by python and print the output.\n",
    "# This is CK's equation:\n",
    "\n",
    "1 + 2 + 3 + 4"
   ]
  },
  {
   "cell_type": "code",
   "execution_count": 4,
   "metadata": {},
   "outputs": [],
   "source": [
    "# Now, type your own equation here and see the outcome.\n",
    "\n"
   ]
  },
  {
   "cell_type": "code",
   "execution_count": 5,
   "metadata": {},
   "outputs": [],
   "source": [
    "# Try to create more cells and type out more equations.\n",
    "\n",
    "# Note that Jupyter supports \"shortcuts\"/\"hotkeys\".\n",
    "\n",
    "# When you are typing in a cell, there is a green box surrounding the cell.\n",
    "# You may click outside the cell or press \"ESC\" to escape from the editing mode.\n",
    "# The green box will turn blue.\n",
    "\n",
    "# You can then press \"A\" or \"B\" to create additional cells above or below the current active cell."
   ]
  },
  {
   "cell_type": "code",
   "execution_count": 6,
   "metadata": {},
   "outputs": [
    {
     "name": "stdout",
     "output_type": "stream",
     "text": [
      "1\n",
      "2\n",
      "3\n"
     ]
    },
    {
     "data": {
      "text/plain": [
       "1"
      ]
     },
     "metadata": {},
     "output_type": "display_data"
    },
    {
     "data": {
      "text/plain": [
       "2"
      ]
     },
     "metadata": {},
     "output_type": "display_data"
    },
    {
     "data": {
      "text/plain": [
       "3"
      ]
     },
     "metadata": {},
     "output_type": "display_data"
    }
   ],
   "source": [
    "# Sometime it is convenient to have mutiple output per cell.\n",
    "# In such a case, you may use the python function `print()`\n",
    "# Or the Jupyter function `display()`\n",
    "\n",
    "print(1)\n",
    "print(2)\n",
    "print(3)\n",
    "\n",
    "display(1)\n",
    "display(2)\n",
    "display(3)"
   ]
  },
  {
   "cell_type": "code",
   "execution_count": 7,
   "metadata": {},
   "outputs": [
    {
     "name": "stdout",
     "output_type": "stream",
     "text": [
      "30\n",
      "1000\n",
      "3.3333333333333335\n",
      "3\n"
     ]
    }
   ],
   "source": [
    "# In the lecture, we learned the different math operations in python: +, -, *, **, /, and //.\n",
    "# Try to use them yourself.\n",
    "# Pay special attention to the ** and // operators.\n",
    "\n",
    "# * and ** are different\n",
    "print(10*3)\n",
    "print(10**3)\n",
    "\n",
    "# / and // are different\n",
    "print(10/3)\n",
    "print(10//3)"
   ]
  }
 ],
 "metadata": {
  "celltoolbar": "Slideshow",
  "kernelspec": {
   "display_name": "Python 3",
   "language": "python",
   "name": "python3"
  },
  "language_info": {
   "codemirror_mode": {
    "name": "ipython",
    "version": 3
   },
   "file_extension": ".py",
   "mimetype": "text/x-python",
   "name": "python",
   "nbconvert_exporter": "python",
   "pygments_lexer": "ipython3",
   "version": "3.8.7"
  }
 },
 "nbformat": 4,
 "nbformat_minor": 4
}
