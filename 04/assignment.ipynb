{
 "cells": [
  {
   "cell_type": "markdown",
   "id": "similar-light",
   "metadata": {},
   "source": [
    "## PHYS 105A:  Introduction to Scientific Computing\n",
    "\n",
    "# Assignment: Monte Carlo Integration\n",
    "\n",
    "In this assignment, we will learn how to compute $\\pi$ using a Monte Carlo method."
   ]
  },
  {
   "cell_type": "code",
   "execution_count": null,
   "id": "biblical-india",
   "metadata": {},
   "outputs": [],
   "source": [
    "# Step 1. Import Libraries\n",
    "#\n",
    "# Although there are libraries such as `numpy` and `scipy` that helps scientific computing in python,\n",
    "# we will not use these libraries for this assignment.\n",
    "# We will use python's built-in math library `math` to access `pi`.\n",
    "# For random number generation, we will use python's build-in library `random`.\n",
    "# For plotting, we will the external libraries `matplotlib`.\n",
    "\n",
    "from math import pi\n",
    "import random as rnd\n",
    "from matplotlib import pyplot as plt\n",
    "\n",
    "print('π =', pi)"
   ]
  }
 ],
 "metadata": {
  "kernelspec": {
   "display_name": "Python 3",
   "language": "python",
   "name": "python3"
  },
  "language_info": {
   "codemirror_mode": {
    "name": "ipython",
    "version": 3
   },
   "file_extension": ".py",
   "mimetype": "text/x-python",
   "name": "python",
   "nbconvert_exporter": "python",
   "pygments_lexer": "ipython3",
   "version": "3.8.7"
  }
 },
 "nbformat": 4,
 "nbformat_minor": 5
}
