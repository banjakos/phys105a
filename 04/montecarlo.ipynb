{
 "cells": [
  {
   "cell_type": "markdown",
   "id": "capable-insulin",
   "metadata": {
    "slideshow": {
     "slide_type": "slide"
    }
   },
   "source": [
    "## PHYS 105A:  Introduction to Scientific Computing\n",
    "\n",
    "# Random Numbers and Monte Carlo Methods\n",
    "\n",
    "Chi-kwan Chan"
   ]
  },
  {
   "cell_type": "markdown",
   "id": "taken-industry",
   "metadata": {
    "slideshow": {
     "slide_type": "slide"
    }
   },
   "source": [
    "* In physical science, students very often start with the concept that everything can be done exactly and deterministically.\n",
    "\n",
    "* This can be one of the biggest misconcept!\n",
    "\n",
    "* Many physical processes are non-deterministic by nature.  Examples include:\n",
    "  * Radioactive decay\n",
    "  * Quantum mechanics\n",
    "\n",
    "* Sometime, even when the governing equaitons are deterministic, the results are still non-deterministic.  Examples include:\n",
    "  * 3-body problem\n",
    "  * Brownian motion\n",
    "  * Thermal noise\n",
    "\n",
    "* Therefore, in computer we need some way to model these non-deterministic systems."
   ]
  },
  {
   "cell_type": "markdown",
   "id": "distinguished-responsibility",
   "metadata": {
    "slideshow": {
     "slide_type": "slide"
    }
   },
   "source": [
    "* For electronic computers, all operations are deterministic.\n",
    "\n",
    "* Nevertheless, we can approximate random processes by *pseudo* random number generators.\n",
    "\n",
    "* These pseudo random number generators can then be used to model non-deterministic systems.\n",
    "\n",
    "* In addition, people started to realize, even for deterministic problems, randomizing them can still be a very powerful numerical method!  Applications include\n",
    "  * Numerical integration of high-dimensional space\n",
    "  * Statistical inference\n",
    "\n",
    "* This results a large number of random number based numerical methods."
   ]
  },
  {
   "cell_type": "markdown",
   "id": "accessory-broadway",
   "metadata": {
    "slideshow": {
     "slide_type": "slide"
    }
   },
   "source": [
    "* Monte Carlo is an area of Monaco well known for its world-famous Place du Casino.\n",
    "\n",
    "* Monte Carlo methods are used to refer to random number based numerical methods.\n",
    "\n",
    "![Monte Carlo](https://upload.wikimedia.org/wikipedia/commons/1/1b/Monaco_pano.jpg)"
   ]
  },
  {
   "cell_type": "code",
   "execution_count": null,
   "id": "vulnerable-organization",
   "metadata": {
    "slideshow": {
     "slide_type": "slide"
    }
   },
   "outputs": [],
   "source": [
    "# In order to understand the concept of a random number generator, let's implement one ourself.\n",
    "\n",
    "mynext = 1\n",
    "\n",
    "def myrand(): # NOT RECOMMENDED for real application.\n",
    "    global mynext\n",
    "    mynext = mynext * 1103515245 + 12345\n",
    "    return (mynext//65536) % 32768\n",
    "\n",
    "# This random number generator would generate integers in the domain [0, 32768).\n",
    "# This random is usually provided to user by\n",
    "\n",
    "MYRAND_MAX = 32768-1\n",
    "\n",
    "# There are reasons for choosing the strange constants.  Take a look at\n",
    "# https://en.wikipedia.org/wiki/Linear_congruential_generator\n",
    "# if you are interested."
   ]
  },
  {
   "cell_type": "code",
   "execution_count": null,
   "id": "awful-federation",
   "metadata": {
    "slideshow": {
     "slide_type": "-"
    }
   },
   "outputs": [],
   "source": [
    "# Now, every time we run `rand()`, we will get a different number\n",
    "\n",
    "myrand()"
   ]
  },
  {
   "cell_type": "code",
   "execution_count": null,
   "id": "eastern-decline",
   "metadata": {
    "slideshow": {
     "slide_type": "-"
    }
   },
   "outputs": [],
   "source": [
    "# For we may just print many of them at the same time:\n",
    "\n",
    "Rs = [myrand() for i in range(100)]\n",
    "print(Rs)"
   ]
  },
  {
   "cell_type": "code",
   "execution_count": null,
   "id": "mighty-means",
   "metadata": {
    "slideshow": {
     "slide_type": "slide"
    }
   },
   "outputs": [],
   "source": [
    "# We may even plot the random numbers\n",
    "\n",
    "from matplotlib import pyplot as plt\n",
    "\n",
    "plt.imshow([[myrand() for i in range(100)] for j in range(100)])"
   ]
  },
  {
   "cell_type": "markdown",
   "id": "micro-porcelain",
   "metadata": {
    "slideshow": {
     "slide_type": "slide"
    }
   },
   "source": [
    "* The above random number generator is very simple and is the *sample* implementation in many ANSI C libraries!\n",
    "\n",
    "* However, because how the standard was written, this create a lot problems.\n",
    "  * The standard only require RAND_MAX be at least 32767.  If one want to evulate 1e6 points (which is pretty small, as we will see below), you will actually be evaluating the same 32768 points 30 times each!\n",
    "  * Some implementation \"tried\" to imporve the algorithm, e.g., swapping the lower and higher bytes.  But these tricks sometime ruins the generator!\n",
    "  * We mentioned that integrating high-dimension space is an important application of Monte Carlo methods.  However, the above random number generator create correlation in k-space.\n",
    "  \n",
    "* Thankfully, `ptyhon`'s random number generator is based on the better [Mersenne Twister algorithm](https://en.wikipedia.org/wiki/Mersenne_Twister).\n",
    "\n",
    "* From now on, unless for demostration purpose, we will use python's built-in random number generators."
   ]
  },
  {
   "cell_type": "markdown",
   "id": "after-encyclopedia",
   "metadata": {
    "slideshow": {
     "slide_type": "slide"
    }
   },
   "source": []
  }
 ],
 "metadata": {
  "celltoolbar": "Slideshow",
  "kernelspec": {
   "display_name": "Python 3",
   "language": "python",
   "name": "python3"
  },
  "language_info": {
   "codemirror_mode": {
    "name": "ipython",
    "version": 3
   },
   "file_extension": ".py",
   "mimetype": "text/x-python",
   "name": "python",
   "nbconvert_exporter": "python",
   "pygments_lexer": "ipython3",
   "version": "3.8.7"
  }
 },
 "nbformat": 4,
 "nbformat_minor": 5
}
