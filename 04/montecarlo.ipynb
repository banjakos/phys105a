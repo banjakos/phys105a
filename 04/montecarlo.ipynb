{
 "cells": [
  {
   "cell_type": "markdown",
   "id": "capable-insulin",
   "metadata": {
    "slideshow": {
     "slide_type": "slide"
    }
   },
   "source": [
    "## PHYS 105A:  Introduction to Scientific Computing\n",
    "\n",
    "# Random Numbers and Monte Carlo Methods\n",
    "\n",
    "Chi-kwan Chan"
   ]
  },
  {
   "cell_type": "markdown",
   "id": "taken-industry",
   "metadata": {
    "slideshow": {
     "slide_type": "slide"
    }
   },
   "source": [
    "* In physical science, students very often start with the concept that everything can be done exactly and deterministically.\n",
    "\n",
    "* This can be one of the biggest misconcept!\n",
    "\n",
    "* Many physical processes are non-deterministic by nature.  Examples include:\n",
    "  * Radioactive decay\n",
    "  * Quantum mechanics\n",
    "\n",
    "* Sometime, even when the governing equaitons are deterministic, the results are still non-deterministic.  Examples include:\n",
    "  * 3-body problem\n",
    "  * Brownian motion\n",
    "  * Thermal noise\n",
    "\n",
    "* Therefore, in computer we need some way to model these non-deterministic systems."
   ]
  },
  {
   "cell_type": "markdown",
   "id": "plain-float",
   "metadata": {
    "slideshow": {
     "slide_type": "slide"
    }
   },
   "source": [
    "* For electronic computers, all operations are deterministic.\n",
    "\n",
    "* Nevertheless, we can approximate random processes by *pseudo* random number generators.\n",
    "\n",
    "* These pseudo random number generators can then be used to model non-deterministic systems.\n",
    "\n",
    "* In addition, people started to realize, even for deterministic problems, randomizing them can still be a very powerful numerical method!  Applications include\n",
    "  * Numerical integration of high-dimensional space\n",
    "  * Statistical inference\n",
    "\n",
    "* This results a large number of random number based numerical methods."
   ]
  },
  {
   "cell_type": "markdown",
   "id": "accessory-broadway",
   "metadata": {
    "slideshow": {
     "slide_type": "slide"
    }
   },
   "source": [
    "* Monte Carlo is an area of Monaco well known for its world-famous Place du Casino.\n",
    "\n",
    "* Monte Carlo methods are used to refer to random number based numerical methods.\n",
    "\n",
    "![Monte Carlo](https://upload.wikimedia.org/wikipedia/commons/1/1b/Monaco_pano.jpg)"
   ]
  },
  {
   "cell_type": "code",
   "execution_count": null,
   "id": "expensive-sixth",
   "metadata": {
    "slideshow": {
     "slide_type": "slide"
    }
   },
   "outputs": [],
   "source": [
    "# In order to understand the concept of a random number generator, let's implement one ourself.\n",
    "\n",
    "mynext = 1\n",
    "\n",
    "def myrand(): # NOT RECOMMENDED for real application.\n",
    "    global mynext\n",
    "    mynext = mynext * 1103515245 + 12345\n",
    "    return (mynext//65536) % 32768\n",
    "\n",
    "# This random number generator would generate integers in the domain [0, 32768).\n",
    "# This random is usually provided to user by\n",
    "\n",
    "MYRAND_MAX = 32768-1\n",
    "\n",
    "# There are reasons for choosing the strange constants.  Take a look at\n",
    "# https://en.wikipedia.org/wiki/Linear_congruential_generator\n",
    "# if you are interested."
   ]
  },
  {
   "cell_type": "code",
   "execution_count": null,
   "id": "adjacent-offering",
   "metadata": {
    "slideshow": {
     "slide_type": "-"
    }
   },
   "outputs": [],
   "source": [
    "# Now, every time we run `rand()`, we will get a different number\n",
    "\n",
    "myrand()"
   ]
  },
  {
   "cell_type": "code",
   "execution_count": null,
   "id": "reasonable-venture",
   "metadata": {
    "slideshow": {
     "slide_type": "-"
    }
   },
   "outputs": [],
   "source": [
    "# For we may just print many of them at the same time:\n",
    "\n",
    "Rs = [myrand() for i in range(100)]\n",
    "print(Rs)"
   ]
  },
  {
   "cell_type": "code",
   "execution_count": null,
   "id": "standard-spoke",
   "metadata": {
    "slideshow": {
     "slide_type": "slide"
    }
   },
   "outputs": [],
   "source": [
    "# We may even plot the random numbers\n",
    "\n",
    "from matplotlib import pyplot as plt\n",
    "\n",
    "plt.imshow([[myrand() for i in range(100)] for j in range(100)])"
   ]
  },
  {
   "cell_type": "code",
   "execution_count": null,
   "id": "going-gathering",
   "metadata": {
    "slideshow": {
     "slide_type": "slide"
    }
   },
   "outputs": [],
   "source": [
    "# Sometime it is useful to make sure your random number sequence remains the same.\n",
    "# In our case, you may notice that we can simply reset the `mynext` global variable to reset the sequence.\n",
    "# The value you put in `mynext` is often called the \"seed\".\n",
    "\n",
    "print('The following two lists are not the same:')\n",
    "print([myrand() for i in range(10)])\n",
    "print([myrand() for i in range(10)])\n",
    "\n",
    "print('We may ensure that they are the same by \"seeding\" the random number generator with a fixed value:')\n",
    "\n",
    "mynext = 1234\n",
    "print([myrand() for i in range(10)])\n",
    "\n",
    "mynext = 1234\n",
    "print([myrand() for i in range(10)])"
   ]
  },
  {
   "cell_type": "markdown",
   "id": "expressed-fundamentals",
   "metadata": {
    "slideshow": {
     "slide_type": "slide"
    }
   },
   "source": [
    "* The above random number generator is very simple and is the *sample* implementation in many ANSI C libraries!\n",
    "\n",
    "* However, because how the standard was written, this create a lot problems.\n",
    "  * The standard only require RAND_MAX be at least 32767.  If one want to evulate 1e6 points (which is pretty small, as we will see below), you will actually be evaluating the same 32768 points 30 times each!\n",
    "  * Some implementation \"tried\" to imporve the algorithm, e.g., swapping the lower and higher bytes.  But these tricks sometime ruins the generator!\n",
    "  * We mentioned that integrating high-dimension space is an important application of Monte Carlo methods.  However, the above random number generator create correlation in k-space.\n",
    "  \n",
    "* Thankfully, `ptyhon`'s random number generator is based on the \"more reliable\" [Mersenne Twister algorithm](https://en.wikipedia.org/wiki/Mersenne_Twister).\n",
    "\n",
    "* From now on, unless for demostration purpose, we will use python's built-in random number generators."
   ]
  },
  {
   "cell_type": "code",
   "execution_count": null,
   "id": "equipped-disclosure",
   "metadata": {
    "slideshow": {
     "slide_type": "slide"
    }
   },
   "outputs": [],
   "source": [
    "# Let's now try python's random number library\n",
    "\n",
    "import random as rnd\n",
    "\n",
    "print(rnd.random())             # return a random float in the range [0,1)\n",
    "print(rnd.randrange(100))       # return a random int in the range [0, stop)\n",
    "print(rnd.randint(a=0,b=99))    # return a random int in the range [a, b+1)\n",
    "print(rnd.gauss(mu=0, sigma=1)) # sample from a Gaussian distribution"
   ]
  },
  {
   "cell_type": "code",
   "execution_count": null,
   "id": "adaptive-elizabeth",
   "metadata": {
    "slideshow": {
     "slide_type": "slide"
    }
   },
   "outputs": [],
   "source": [
    "# We may plot the results of these random number generators\n",
    "\n",
    "Rs = [rnd.random() for i in range(1000)]\n",
    "plt.hist(Rs)"
   ]
  },
  {
   "cell_type": "code",
   "execution_count": null,
   "id": "recognized-provider",
   "metadata": {
    "slideshow": {
     "slide_type": "slide"
    }
   },
   "outputs": [],
   "source": [
    "Rs = [rnd.randrange(100) for i in range(1000)]\n",
    "plt.hist(Rs)"
   ]
  },
  {
   "cell_type": "code",
   "execution_count": null,
   "id": "musical-tobacco",
   "metadata": {
    "slideshow": {
     "slide_type": "slide"
    }
   },
   "outputs": [],
   "source": [
    "Rs = [rnd.gauss(0, 1) for i in range(1000)]\n",
    "plt.hist(Rs)"
   ]
  },
  {
   "cell_type": "code",
   "execution_count": null,
   "id": "approved-protein",
   "metadata": {
    "slideshow": {
     "slide_type": "slide"
    }
   },
   "outputs": [],
   "source": [
    "# There is also a seed() function\n",
    "\n",
    "rnd.seed(1234)\n",
    "print([rnd.randrange(100) for i in range(10)])\n",
    "\n",
    "rnd.seed(1234)\n",
    "print([rnd.randrange(100) for i in range(10)])"
   ]
  },
  {
   "cell_type": "markdown",
   "id": "unavailable-marketplace",
   "metadata": {
    "slideshow": {
     "slide_type": "slide"
    }
   },
   "source": [
    "* Once we have a (pseudo) random number generator, we are ready to develop Monte Carlo methods!\n",
    "\n",
    "* We will start with a simple example of random walk.  The model is very simple:\n",
    "  * We start with a (drunk) person at the center of the street.\n",
    "  * As the person step forward toward +t, the person random also step left +1 or right -1.\n",
    "  * The problem is, after n steps, how far away is the person away from the center of the street?"
   ]
  },
  {
   "cell_type": "code",
   "execution_count": null,
   "id": "postal-redhead",
   "metadata": {
    "slideshow": {
     "slide_type": "slide"
    }
   },
   "outputs": [],
   "source": [
    "# We may step up this problem in the following way:\n",
    "\n",
    "T = range(1, 1000+1)\n",
    "X = [0] # initial position\n",
    "\n",
    "for t in T:\n",
    "    last = X[-1]            # last position\n",
    "    r    = rnd.randint(0,1) # we generate 0 or 1 randomly\n",
    "    if r == 0:              # depending on r, we step left or right\n",
    "        curr = last + 1\n",
    "    else:\n",
    "        curr = last - 1\n",
    "    X.append(curr)          # append the current position to the list X\n",
    "\n",
    "# We may plot this random walk\n",
    "plt.plot(X)"
   ]
  },
  {
   "cell_type": "code",
   "execution_count": null,
   "id": "potential-victory",
   "metadata": {
    "slideshow": {
     "slide_type": "slide"
    }
   },
   "outputs": [],
   "source": [
    "# Awesome!\n",
    "# But in order to find out how random walk behave statistically,\n",
    "# we want to be able to run many simulations!\n",
    "\n",
    "# It is convenient to define a function\n",
    "\n",
    "def randomwalk(n_steps=1000):\n",
    "    X = [0] # initial position\n",
    "    \n",
    "    for t in range(n_steps):\n",
    "        last = X[-1]            # last position\n",
    "        r    = rnd.randint(0,1) # we generate 0 or 1 randomly\n",
    "        if r == 0:              # depending on r, we step left or right\n",
    "            curr = last + 1\n",
    "        else:\n",
    "            curr = last - 1    \n",
    "        X.append(curr)          # append the current position to the list X\n",
    "        \n",
    "    return X                    # return the result\n",
    "\n",
    "# And we can use this function in another loop.\n",
    "for i in range(10):\n",
    "    plt.plot(randomwalk())"
   ]
  },
  {
   "cell_type": "code",
   "execution_count": null,
   "id": "polished-mortgage",
   "metadata": {
    "slideshow": {
     "slide_type": "slide"
    }
   },
   "outputs": [],
   "source": [
    "# We may now ask how far away the peron would walk depending on the number of stpes.\n",
    "\n",
    "D = []\n",
    "for t in T:\n",
    "    X = randomwalk(t)\n",
    "    D.append(abs(X[-1]))\n",
    "    \n",
    "plt.plot(D)\n",
    "\n",
    "# Clearly, the distance gets farther when the number of steps increase.\n",
    "# But this figure is too noise to read off the dependency."
   ]
  },
  {
   "cell_type": "code",
   "execution_count": null,
   "id": "divine-bidder",
   "metadata": {
    "slideshow": {
     "slide_type": "slide"
    }
   },
   "outputs": [],
   "source": [
    "# There are multiple ways to make the above figure less noise.\n",
    "# One way is to simply do multiple numerical experiments for the same number of steps.\n",
    "# And obtain the average distance.\n",
    "\n",
    "n_trials = 100\n",
    "D = []\n",
    "for t in T:\n",
    "    M = 0\n",
    "    for trial in range(n_trials):\n",
    "        X  = randomwalk(t)\n",
    "        M += abs(X[-1])\n",
    "    M /= n_trials\n",
    "    D.append(M)\n",
    "    \n",
    "plt.plot(D)\n",
    "\n",
    "# The plot is much better!"
   ]
  },
  {
   "cell_type": "code",
   "execution_count": null,
   "id": "catholic-milan",
   "metadata": {
    "slideshow": {
     "slide_type": "slide"
    }
   },
   "outputs": [],
   "source": [
    "# Later in the class, we will learn how to fit a curve.\n",
    "# But for now, let's simply plot this in log-log scale.\n",
    "# And compare it with the law of diffusion D ~ sqrt(T)\n",
    "\n",
    "plt.loglog(T, D)\n",
    "plt.plot(T, [t**0.5 for t in T])"
   ]
  },
  {
   "cell_type": "markdown",
   "id": "hired-medium",
   "metadata": {
    "slideshow": {
     "slide_type": "slide"
    }
   },
   "source": [
    "* You may use this simple random walk model to model real physical process.\n",
    "\n",
    "* For example, the Brownian motion, which describe how pollen is randomly pushed by water molecules.\n",
    "\n",
    "![Brownian motion](https://upload.wikimedia.org/wikipedia/commons/c/c2/Brownian_motion_large.gif)\n",
    "\n",
    "* Einstein published a paper on Brownian motion in 1905, which is one of his first major scientific contributions."
   ]
  },
  {
   "cell_type": "code",
   "execution_count": null,
   "id": "innovative-numbers",
   "metadata": {
    "slideshow": {
     "slide_type": "slide"
    }
   },
   "outputs": [],
   "source": [
    "# The simplest model of Brownian motion is simply a two-dimension random walk.\n",
    "\n",
    "X = randomwalk()\n",
    "Y = randomwalk()\n",
    "\n",
    "plt.plot(X, Y)\n",
    "\n",
    "# The resulting plot looks slightly funny because random walk forces x and y both to move at exactly one step.\n",
    "# The final outcome is that the particle can only move in diagonal directions."
   ]
  },
  {
   "cell_type": "code",
   "execution_count": null,
   "id": "timely-springer",
   "metadata": {
    "slideshow": {
     "slide_type": "slide"
    }
   },
   "outputs": [],
   "source": [
    "# But this artifact becomes irrelevant when we model random walk for many many more steps.\n",
    "\n",
    "X = randomwalk(100000)\n",
    "Y = randomwalk(100000)\n",
    "\n",
    "plt.plot(X, Y)"
   ]
  },
  {
   "cell_type": "code",
   "execution_count": null,
   "id": "worst-submission",
   "metadata": {},
   "outputs": [],
   "source": []
  }
 ],
 "metadata": {
  "celltoolbar": "Slideshow",
  "kernelspec": {
   "display_name": "Python 3",
   "language": "python",
   "name": "python3"
  },
  "language_info": {
   "codemirror_mode": {
    "name": "ipython",
    "version": 3
   },
   "file_extension": ".py",
   "mimetype": "text/x-python",
   "name": "python",
   "nbconvert_exporter": "python",
   "pygments_lexer": "ipython3",
   "version": "3.8.7"
  }
 },
 "nbformat": 4,
 "nbformat_minor": 5
}
