{
 "cells": [
  {
   "cell_type": "markdown",
   "id": "hawaiian-equation",
   "metadata": {
    "slideshow": {
     "slide_type": "slide"
    }
   },
   "source": [
    "## PHYS 105A:  Introduction to Scientific Computing\n",
    "\n",
    "# The `Python` Programming Language\n",
    "\n",
    "Chi-kwan Chan"
   ]
  },
  {
   "cell_type": "markdown",
   "id": "associate-chassis",
   "metadata": {
    "slideshow": {
     "slide_type": "slide"
    }
   },
   "source": [
    "## History of `Python`\n",
    "\n",
    "* `Python` was developed by Guido van Rossum the Netherlands in late 1980s\n",
    "* `Python` 2.0 was released on 16 October 2000.  Major features include garbage collector and support for Unicode.\n",
    "* `Python` 3.0 was released 3 December 2008.\n",
    "* You SHOULD use `python3` these days!\n",
    "\n",
    "![Guido van Rossum](https://upload.wikimedia.org/wikipedia/commons/e/e2/Guido-portrait-2014-drc.jpg)"
   ]
  },
  {
   "cell_type": "markdown",
   "id": "exclusive-tenant",
   "metadata": {
    "slideshow": {
     "slide_type": "slide"
    }
   },
   "source": [
    "## Zen of Python\n",
    "\n",
    "* Beautiful is better than ugly.\n",
    "* Explicit is better than implicit.\n",
    "* Simple is better than complex.\n",
    "* Complex is better than complicated.\n",
    "* Readability counts."
   ]
  },
  {
   "cell_type": "markdown",
   "id": "third-dialogue",
   "metadata": {
    "slideshow": {
     "slide_type": "slide"
    }
   },
   "source": [
    "## Introduction to the `Python` Programming Langauge\n",
    "\n",
    "Please clone this Jupyter notebook and follow along.\n",
    "\n",
    "    git clone git@github.com:uarizona-2021spring-phys105a/phys105a.git\n",
    "    cd phys105a\n",
    "    jupyter lab"
   ]
  },
  {
   "cell_type": "code",
   "execution_count": null,
   "id": "agreed-davis",
   "metadata": {},
   "outputs": [],
   "source": [
    "# Everyone needs to learn the \"hello world\" program\n",
    "\n",
    "print(\"Hello Python!\")"
   ]
  },
  {
   "cell_type": "code",
   "execution_count": null,
   "id": "apart-delta",
   "metadata": {},
   "outputs": [],
   "source": [
    "# Python supports unicode since version 2\n",
    "\n",
    "print(\"Python 你好!\")"
   ]
  },
  {
   "cell_type": "code",
   "execution_count": null,
   "id": "drawn-weekly",
   "metadata": {},
   "outputs": [],
   "source": [
    "# Variable *assignment* is done by the equal \"=\" sign \n",
    "\n",
    "a = 1\n",
    "b = 5.0"
   ]
  },
  {
   "cell_type": "code",
   "execution_count": null,
   "id": "historic-cornwall",
   "metadata": {},
   "outputs": [],
   "source": [
    "# Python is dynamic typed\n",
    "\n",
    "type(a)"
   ]
  },
  {
   "cell_type": "code",
   "execution_count": null,
   "id": "general-success",
   "metadata": {},
   "outputs": [],
   "source": [
    "type(b)"
   ]
  },
  {
   "cell_type": "code",
   "execution_count": null,
   "id": "beginning-portal",
   "metadata": {},
   "outputs": [],
   "source": [
    "type('abc')"
   ]
  },
  {
   "cell_type": "code",
   "execution_count": null,
   "id": "attended-quarterly",
   "metadata": {},
   "outputs": [],
   "source": [
    "# Python math operators\n",
    "\n",
    "print(a + 3)\n",
    "print(a - 3)\n",
    "print(a * 3)\n",
    "print(a ** 9)\n",
    "print(a /  3)\n",
    "print(a // 3)"
   ]
  },
  {
   "cell_type": "code",
   "execution_count": null,
   "id": "selective-wheat",
   "metadata": {},
   "outputs": [],
   "source": [
    "# Python comparison operators\n",
    "\n",
    "a > 3"
   ]
  },
  {
   "cell_type": "code",
   "execution_count": null,
   "id": "competent-exception",
   "metadata": {},
   "outputs": [],
   "source": [
    "# Two equal signs to test if values are equal\n",
    "\n",
    "a == 3"
   ]
  },
  {
   "cell_type": "code",
   "execution_count": null,
   "id": "cellular-graphics",
   "metadata": {},
   "outputs": [],
   "source": [
    "a <= 3"
   ]
  },
  {
   "cell_type": "code",
   "execution_count": null,
   "id": "resident-algeria",
   "metadata": {},
   "outputs": [],
   "source": [
    "# Conditional statement: \n",
    "#\n",
    "# if <condition/boolean>:\n",
    "#     <statement>\n",
    "# [else:\n",
    "#     <statement>]\n",
    "#\n",
    "# Note that indentation is *requried*.\n",
    "\n",
    "if a > 3:\n",
    "    print(\"`a` is greater than 3\")\n",
    "else:\n",
    "    print(\"`a` is not greater than 3\")"
   ]
  },
  {
   "cell_type": "code",
   "execution_count": null,
   "id": "gorgeous-lodging",
   "metadata": {},
   "outputs": [],
   "source": [
    "# No indentation will give you error.\n",
    "\n",
    "if a > 3:\n",
    "print(\"`a` is greater than 3\")\n",
    "else:\n",
    "print(\"`a` is not greater than 3\")"
   ]
  },
  {
   "cell_type": "code",
   "execution_count": null,
   "id": "banned-copying",
   "metadata": {},
   "outputs": [],
   "source": [
    "# In addition to computing, computers are also good at accounting.\n",
    "# Therefore, we need data structures to manage data.\n",
    "# The simplest python data structure is a \"tuple\"\n",
    "\n",
    "t = (1, 2.0, '3')\n",
    "t"
   ]
  },
  {
   "cell_type": "code",
   "execution_count": null,
   "id": "organized-parts",
   "metadata": {},
   "outputs": [],
   "source": [
    "# You may access value of a type by its index\n",
    "\n",
    "t[0]"
   ]
  },
  {
   "cell_type": "code",
   "execution_count": null,
   "id": "presidential-session",
   "metadata": {},
   "outputs": [],
   "source": [
    "# Tuples are immutable, i.e., you cannot change its conent.\n",
    "# The following will give you error.\n",
    "\n",
    "t[0] = 1"
   ]
  },
  {
   "cell_type": "code",
   "execution_count": null,
   "id": "reflected-permission",
   "metadata": {},
   "outputs": [],
   "source": [
    "# The next data structure we need to learn is a list.\n",
    "\n",
    "l = [1, 2, 3]\n",
    "l"
   ]
  },
  {
   "cell_type": "code",
   "execution_count": null,
   "id": "elect-coupon",
   "metadata": {},
   "outputs": [],
   "source": [
    "# You may access elements of a list by indices\n",
    "\n",
    "l[0]"
   ]
  },
  {
   "cell_type": "code",
   "execution_count": null,
   "id": "brief-friday",
   "metadata": {},
   "outputs": [],
   "source": [
    "l[0:2]"
   ]
  },
  {
   "cell_type": "code",
   "execution_count": null,
   "id": "vital-vietnam",
   "metadata": {},
   "outputs": [],
   "source": [
    "# You may change the values in a list or even extend the list.\n",
    "\n",
    "l[0] = 'a'\n",
    "l"
   ]
  },
  {
   "cell_type": "code",
   "execution_count": null,
   "id": "collectible-vietnam",
   "metadata": {},
   "outputs": [],
   "source": [
    "l.append('d')\n",
    "l"
   ]
  },
  {
   "cell_type": "code",
   "execution_count": null,
   "id": "complete-accounting",
   "metadata": {},
   "outputs": [],
   "source": [
    "# Dictionary is another fundamental data structure in python.\n",
    "# It maps keys to values\n",
    "\n",
    "d = {'a':1, 'b':2, 'c':3}\n",
    "d"
   ]
  },
  {
   "cell_type": "code",
   "execution_count": null,
   "id": "parallel-edmonton",
   "metadata": {},
   "outputs": [],
   "source": [
    "# You may access its values through keys\n",
    "\n",
    "d['a']"
   ]
  },
  {
   "cell_type": "code",
   "execution_count": null,
   "id": "excited-cycle",
   "metadata": {},
   "outputs": [],
   "source": [
    "# It is also mutable\n",
    "\n",
    "d['a'] = 'a'\n",
    "d"
   ]
  },
  {
   "cell_type": "code",
   "execution_count": null,
   "id": "following-genius",
   "metadata": {},
   "outputs": [],
   "source": [
    "d['d'] = 'd'\n",
    "d"
   ]
  },
  {
   "cell_type": "code",
   "execution_count": null,
   "id": "defensive-penalty",
   "metadata": {},
   "outputs": [],
   "source": [
    "# Once you can store multiple values, you may also ask python to do many work for you.\n",
    "# This can be done by \"loop\".\n",
    "# The \"for-loop\" is very often used in python:\n",
    "#\n",
    "# for <index> in <iterable>:\n",
    "#     <statement>\n",
    "#\n",
    "# Indentation is *requried* again.\n",
    "\n",
    "for i in range(10):\n",
    "    print(i)"
   ]
  },
  {
   "cell_type": "code",
   "execution_count": null,
   "id": "interesting-telescope",
   "metadata": {},
   "outputs": [],
   "source": [
    "for i in range(10):\n",
    "    print(i, '^2 = ', i**2)"
   ]
  },
  {
   "cell_type": "code",
   "execution_count": null,
   "id": "labeled-delta",
   "metadata": {},
   "outputs": [],
   "source": [
    "for key, value in d.items():\n",
    "    print(key, value)"
   ]
  },
  {
   "cell_type": "code",
   "execution_count": null,
   "id": "israeli-killing",
   "metadata": {},
   "outputs": [],
   "source": [
    "# Programming is about managing complexities.\n",
    "# Once you write a program/algorithm, you want to be able to resue it.\n",
    "# Python allows you define a function.\n",
    "\n",
    "def func(a):\n",
    "    return a * a"
   ]
  },
  {
   "cell_type": "code",
   "execution_count": null,
   "id": "extraordinary-fairy",
   "metadata": {},
   "outputs": [],
   "source": [
    "func(8)"
   ]
  },
  {
   "cell_type": "code",
   "execution_count": null,
   "id": "anticipated-thomson",
   "metadata": {},
   "outputs": [],
   "source": [
    "for i in range(10):\n",
    "    print(i, '^2 = ', func(i))"
   ]
  },
  {
   "cell_type": "code",
   "execution_count": null,
   "id": "informative-oakland",
   "metadata": {},
   "outputs": [],
   "source": [
    "# We've learned the most commonly used syntax in python.\n",
    "# However, when all the built-in features of python are not enough to solve your problem,\n",
    "# you can bring in additional features by the \"import\" statement.\n",
    "# The follow two statements have the same effect:\n",
    "\n",
    "import matplotlib.pyplot as plt\n",
    "\n",
    "from matplotlib import pyplot as plt"
   ]
  },
  {
   "cell_type": "code",
   "execution_count": null,
   "id": "fourth-system",
   "metadata": {},
   "outputs": [],
   "source": [
    "# matplotlib is a very powerful plotting library in python.  \n",
    "\n",
    "a = [0, 1, 2, 3, 4, 5, 6]\n",
    "plt.plot(a)"
   ]
  },
  {
   "cell_type": "code",
   "execution_count": null,
   "id": "freelance-stuff",
   "metadata": {},
   "outputs": [],
   "source": [
    "# You may save the figure to a file\n",
    "\n",
    "a = [0, 1, 2, 3, 2, 1, 0]\n",
    "plt.plot(a)\n",
    "plt.savefig('fig.png')"
   ]
  }
 ],
 "metadata": {
  "celltoolbar": "Slideshow",
  "kernelspec": {
   "display_name": "Python 3",
   "language": "python",
   "name": "python3"
  },
  "language_info": {
   "codemirror_mode": {
    "name": "ipython",
    "version": 3
   },
   "file_extension": ".py",
   "mimetype": "text/x-python",
   "name": "python",
   "nbconvert_exporter": "python",
   "pygments_lexer": "ipython3",
   "version": "3.8.7"
  }
 },
 "nbformat": 4,
 "nbformat_minor": 5
}
