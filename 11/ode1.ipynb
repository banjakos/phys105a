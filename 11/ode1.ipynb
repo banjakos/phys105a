{
 "cells": [
  {
   "cell_type": "markdown",
   "id": "numerical-monthly",
   "metadata": {
    "slideshow": {
     "slide_type": "slide"
    }
   },
   "source": [
    "## PHYS 105A:  Introduction to Scientific Computing\n",
    "\n",
    "# Integration of Differential Equations\n",
    "\n",
    "Chi-kwan Chan"
   ]
  },
  {
   "cell_type": "markdown",
   "id": "front-contribution",
   "metadata": {
    "slideshow": {
     "slide_type": "slide"
    }
   },
   "source": [
    "## Importance of Integration in Physics\n",
    "\n",
    "* Physical (dynamic) systems are very often described by ordinary differential equations, examples include Newton's second law:\n",
    "   $f = m a = m \\frac{dx^2}{dt^2}$.\n",
    "   \n",
    "* For fields, their are described by partial differential equations.\n",
    "\n",
    "* In order to predict how physical systems behave, we need to integrate these diffrential equations."
   ]
  },
  {
   "cell_type": "markdown",
   "id": "published-mambo",
   "metadata": {
    "slideshow": {
     "slide_type": "slide"
    }
   },
   "source": [
    "## Problem Definition\n",
    "\n",
    "* Consider the following two problems:\n",
    "\n",
    "  $\\frac{dx}{dt} = f(t)$\n",
    "  \n",
    "  $\\frac{dx}{dt} = f(x, t)$\n",
    "\n",
    "* The **key** different is that the righ hand side (RHS) of the first equation depends only on the independent variable $t$; while the RHS of the second equation depends also on the dependent variable $x$.\n",
    "\n"
   ]
  },
  {
   "cell_type": "markdown",
   "id": "russian-music",
   "metadata": {
    "slideshow": {
     "slide_type": "slide"
    }
   },
   "source": [
    "## Problem Definition\n",
    "\n",
    "* To solve the first equation, we simply perform:\n",
    "\n",
    "  $x(t) = x(t_0) + \\int_{t_0}^t dt' f(t')$\n",
    "\n",
    "  We covered \"Nmerical Integration of Functions\" in lecture #7.\n",
    "  \n",
    "* Because the RHS depends on $x$, we **CANNOT** do the same for the second equation.\n",
    "\n",
    "  $x(t) = x(t_0) + \\int_{t_0}^t dt' f(x, t')\\ \\ \\ $ [cannot simply integrate because of $x$ on the RHS]\n",
    "\n",
    "  We will learn how to solve for the second equation this time."
   ]
  },
  {
   "cell_type": "markdown",
   "id": "duplicate-agency",
   "metadata": {
    "slideshow": {
     "slide_type": "slide"
    }
   },
   "source": [
    "## Numerical Solution of ODEs: an Ingegration Strategy\n",
    "\n",
    "* Although analytically carry out\n",
    "\n",
    "  $x(t) = x(t_0) + \\int_{t_0}^t dt' f(x, t')$\n",
    "  \n",
    "  would not work, how bad is it if we think about **Numerical approximation**?\n",
    "  \n",
    "* Specifically, consider $t - t_0$ is small so $x$ does not change much, and hence $f(x, t)$ does not change much?\n",
    "\n",
    "* Then using what we learned from lecture 7,\n",
    "\n",
    "  $\\int_{t_0}^t dt' f(x, t') \\approx f(x(t'), t') (t - t_0)$\n",
    "  \n",
    "  where $t_0 \\lesssim t' \\lesssim t$.\n",
    "  \n",
    "* Choosing $t' = t_0$ corresponds to the *left Riemann sum*.\n",
    "\n",
    "* Choosing $t' = t$ corresponds to the *right Riemann sum*."
   ]
  },
  {
   "cell_type": "markdown",
   "id": "tight-lawyer",
   "metadata": {
    "slideshow": {
     "slide_type": "slide"
    }
   },
   "source": [
    "## Numerical Solution of ODEs: an Ingegration Strategy\n",
    "\n",
    "* Define $\\Delta t \\equiv t - t_0$.\n",
    "\n",
    "* Substitute the above approximation back to the ODE, we have\n",
    "\n",
    "  $x(t) \\approx x(t_0) + f(x(t'), t') \\Delta t$\n",
    "  \n",
    "* In general, we do not know the right hand side because $x(t')$ is unsolved.\n",
    "\n",
    "* However, if we choose $t' = t_0$, i.e., the left Riemann sum, we have\n",
    "\n",
    "  $x(t) \\approx x(t_0) + f(x(t_0), t_0) \\Delta t$\n",
    "  \n",
    "  Then the right hand side is **known**!\n",
    "  \n",
    "* This is called the Euler's method:\n",
    "\n",
    "  $x_{n+1} = x_n + f(x_n, t_n) \\Delta t$"
   ]
  },
  {
   "cell_type": "markdown",
   "id": "insured-welding",
   "metadata": {
    "slideshow": {
     "slide_type": "slide"
    }
   },
   "source": [
    "## Numerical Solution of ODEs: a Differential Strategy\n",
    "\n",
    "* Alternatively, we may look at the differential equation itself:\n",
    "\n",
    "  $\\frac{dx}{dt} = f(x, t)$\n",
    "  \n",
    "  and consider that differention is a limit:\n",
    "  \n",
    "  $\\left.\\frac{dx}{dt}\\right|_{t_0}\n",
    "  = \\lim_{t \\rightarrow t_0} \\frac{x(t) - x(t_0)}{t - t_0}$\n",
    "  \n",
    "* Using a *finite difference* approximation:\n",
    "\n",
    "  $\\left.\\frac{dx}{dt}\\right|_{t_0}\n",
    "  \\approx \\frac{x(t) - x(t_0)}{t - t_0}$"
   ]
  },
  {
   "cell_type": "markdown",
   "id": "painful-singer",
   "metadata": {
    "slideshow": {
     "slide_type": "slide"
    }
   },
   "source": [
    "## Numerical Solution of ODEs: a Differential Strategy\n",
    "  \n",
    "* Therefore,\n",
    "\n",
    "  $\\frac{x(t) - x(t_0)}{t - t_0} \\approx f(x, t)$\n",
    "  \n",
    "  $x(t) \\approx x(t_0) + f(x_0, t_0) \\Delta t$\n",
    " \n",
    "* Which is again our Euler's method:\n",
    "\n",
    "  $x_{n+1} = x_n + f(x_n, t_n) \\Delta t$"
   ]
  },
  {
   "cell_type": "markdown",
   "id": "still-harvard",
   "metadata": {
    "slideshow": {
     "slide_type": "slide"
    }
   },
   "source": [
    "## System of ODEs\n",
    "\n",
    "* Given this is an introduction to computational physics course, we are interested in solving, e.g., Newton's equation:\n",
    "\n",
    "  $m \\frac{d^2 x}{dt^2} = f(x, t)$\n",
    "  \n",
    "* We can trivially cast this second order ODE into a system of two first order ODEs:\n",
    " \n",
    "  $\\frac{dx}{dt} = v$\n",
    "  \n",
    "  $\\frac{dv}{dt} = \\frac{1}{m}f(x, t)$\n",
    "  \n",
    "* Using \"vector\" notation, we define $Y = [x, v]^t$ and $F = [v, f/m]^t$ so that\n",
    " \n",
    "  $\\frac{dY}{dt} = F(Y, t)$."
   ]
  },
  {
   "cell_type": "markdown",
   "id": "forbidden-fabric",
   "metadata": {
    "slideshow": {
     "slide_type": "slide"
    }
   },
   "source": [
    "## Simple Gravity Pendulum\n",
    "\n",
    "![Pendulum](https://upload.wikimedia.org/wikipedia/commons/2/24/Oscillating_pendulum.gif)"
   ]
  },
  {
   "cell_type": "markdown",
   "id": "charged-enough",
   "metadata": {
    "slideshow": {
     "slide_type": "slide"
    }
   },
   "source": [
    "## Simple Gravity Pendulum\n",
    "\n",
    "* Equation of motion:\n",
    "\n",
    "  $\\frac{d^2\\theta}{dt^2} + \\frac{g}{l} \\sin\\theta = 0$\n",
    "  \n",
    "* Convert to a system of two first order ODEs:\n",
    "\n",
    "  $\\frac{d\\theta(t)}{dt} = \\Omega(t)$\n",
    "  \n",
    "  $\\frac{d\\Omega(t)}{dt} = - \\frac{g}{l}\\sin\\theta(t)$\n",
    "  \n",
    "* In vector notation:\n",
    "\n",
    "  $\\frac{dY(t)}{dt} = F(Y, t)$\n",
    "  \n",
    "  where $Y = [\\theta(t), \\Omega(t)]^t$ and $F = \\left[\\Omega(t), -\\frac{g}{l}\\sin\\theta(t)\\right]^t$."
   ]
  }
 ],
 "metadata": {
  "celltoolbar": "Slideshow",
  "kernelspec": {
   "display_name": "Python 3",
   "language": "python",
   "name": "python3"
  },
  "language_info": {
   "codemirror_mode": {
    "name": "ipython",
    "version": 3
   },
   "file_extension": ".py",
   "mimetype": "text/x-python",
   "name": "python",
   "nbconvert_exporter": "python",
   "pygments_lexer": "ipython3",
   "version": "3.8.9"
  }
 },
 "nbformat": 4,
 "nbformat_minor": 5
}
