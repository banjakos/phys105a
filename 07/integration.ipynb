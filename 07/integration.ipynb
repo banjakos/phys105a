{
 "cells": [
  {
   "cell_type": "markdown",
   "id": "fallen-suffering",
   "metadata": {
    "slideshow": {
     "slide_type": "slide"
    }
   },
   "source": [
    "## PHYS 105A:  Introduction to Scientific Computing\n",
    "\n",
    "# Numerical Integration of Functions\n",
    "\n",
    "Chi-kwan Chan"
   ]
  },
  {
   "cell_type": "markdown",
   "id": "fixed-geography",
   "metadata": {
    "slideshow": {
     "slide_type": "slide"
    }
   },
   "source": [
    "## Importance of Integration in Physics\n",
    "\n",
    "* Physical (dynamic) systems are very often described by ordinary differential equations, examples include Newton's second law:\n",
    "   $f = m a = m \\frac{dx^2}{dt^2}$.\n",
    "   \n",
    "* For fields, their are described by partial differential equations.\n",
    "\n",
    "* In order to predict how physical systems behave, we need to integrate these diffrential equations."
   ]
  },
  {
   "cell_type": "markdown",
   "id": "settled-python",
   "metadata": {
    "slideshow": {
     "slide_type": "slide"
    }
   },
   "source": [
    "## Nmerical Integration of Functions\n",
    "\n",
    "* But before we learn how to solve generic ODEs, let's learn a simple special case:\n",
    "  $I = \\int_a^b f(x) dx$.\n",
    "\n",
    "* Note that this integration is equivalent to solving for the value $I \\equiv y(b)$ of the differential equation $dy/dx = f(x)$ with the boundary condition $y(a) = 0$.\n",
    "\n",
    "* By doing so, we will learn the important concept of convergence."
   ]
  },
  {
   "cell_type": "markdown",
   "id": "southwest-unemployment",
   "metadata": {
    "slideshow": {
     "slide_type": "slide"
    }
   },
   "source": [
    "## Analytical Example\n",
    "\n",
    "* Numerical integration can help us solve problems without analytical solutions.\n",
    "\n",
    "* But to help our understanding, we will first use an example with analytical solution.\n",
    "\n",
    "* Let's consider $f(x) = e^{x}$.\n",
    "\n",
    "* The indefinite integration is $\\int f(x) dx = e^{x} + C$, where $C$ is a constant.\n",
    "\n",
    "* The definite integral is $\\int_a^b f(x) dx = e^{b} - e^{a}$."
   ]
  },
  {
   "cell_type": "code",
   "execution_count": null,
   "id": "occupational-rogers",
   "metadata": {
    "slideshow": {
     "slide_type": "slide"
    }
   },
   "outputs": [],
   "source": [
    "# It is useful to plot the function for visualization.\n",
    "\n",
    "import numpy as np\n",
    "from matplotlib import pyplot as plt\n",
    "\n",
    "x = np.linspace(0, 1, 101) # define a fine grid for plotting\n",
    "y = np.exp(x)              # sample function f on the grid\n",
    "\n",
    "plt.plot(x, y)\n",
    "plt.fill_between(x, y, alpha=0.33)"
   ]
  },
  {
   "cell_type": "markdown",
   "id": "classified-softball",
   "metadata": {
    "slideshow": {
     "slide_type": "slide"
    }
   },
   "source": [
    "## Riemann Sums\n",
    "\n",
    "* When we first learn about ingegration, we usually learn about the Riemann sum first.\n",
    "\n",
    "    $I \\approx S \\equiv \\sum_{i = 1}^n f(x_i^*) \\Delta x_i$\n",
    "  \n",
    "  where $\\Delta x_i = x_i - x_{i-1}$.\n",
    "  \n",
    "* If $x_i^* = x_{i-1}$ for all $i$, then $S$ is called the left Reimann Sum.\n",
    "\n",
    "* If $x_i^* = x_i$ for all $i$, then $S$ is called the right Reimann Sum.\n",
    "\n",
    "* If $x_i^* = (x_{i-1} + x_i)/2$ for all $i$, then $S$ is called the middle Reimann Sum.\n",
    "\n",
    "* There are other Reimann Sums such as the supper and lower Riemann (Darboux) sums.  But we won't discuss them here.  They are useful for prove mathemtical theories but less useful in numerical analysis.\n",
    "\n",
    "* In the limit $\\Delta x_i \\rightarrow 0$, the Reimann Sums converge to the integral."
   ]
  },
  {
   "cell_type": "code",
   "execution_count": null,
   "id": "interpreted-pride",
   "metadata": {
    "slideshow": {
     "slide_type": "slide"
    }
   },
   "outputs": [],
   "source": [
    "# Graphically, this is the left Reimann Sum\n",
    "\n",
    "X = np.linspace(0, 1, 11) # define a coarse grid for the sum\n",
    "Y = np.exp(X)             # sample function f on the grid\n",
    "\n",
    "plt.plot(x, y)\n",
    "plt.scatter(X[:-1], Y[:-1], color='r')\n",
    "plt.fill_between(X, Y, step='post', color='r', alpha=0.33)"
   ]
  },
  {
   "cell_type": "code",
   "execution_count": null,
   "id": "sophisticated-lingerie",
   "metadata": {
    "slideshow": {
     "slide_type": "slide"
    }
   },
   "outputs": [],
   "source": [
    "# And this is the right Reimann Sum\n",
    "\n",
    "plt.plot(x, y)\n",
    "plt.scatter(X[1:], Y[1:], color='r')\n",
    "plt.fill_between(X, Y, step='pre', color='r', alpha=0.33)"
   ]
  },
  {
   "cell_type": "code",
   "execution_count": null,
   "id": "complete-bidding",
   "metadata": {
    "slideshow": {
     "slide_type": "slide"
    }
   },
   "outputs": [],
   "source": [
    "# And this is the middle Reimann Sum\n",
    "\n",
    "X = np.linspace(0, 1, 11)\n",
    "X = 0.5 * (X[:-1] + X[1:])\n",
    "Y = np.exp(X)\n",
    "\n",
    "plt.plot(x, y)\n",
    "plt.scatter(X, Y, color='r')\n",
    "plt.fill_between(np.concatenate([[0], X, [1]]), \n",
    "                 np.concatenate([Y[:1], Y, Y[-1:]]), \n",
    "                 step='mid', color='r', alpha=0.33)"
   ]
  }
 ],
 "metadata": {
  "celltoolbar": "Slideshow",
  "kernelspec": {
   "display_name": "Python 3",
   "language": "python",
   "name": "python3"
  },
  "language_info": {
   "codemirror_mode": {
    "name": "ipython",
    "version": 3
   },
   "file_extension": ".py",
   "mimetype": "text/x-python",
   "name": "python",
   "nbconvert_exporter": "python",
   "pygments_lexer": "ipython3",
   "version": "3.8.8"
  }
 },
 "nbformat": 4,
 "nbformat_minor": 5
}
