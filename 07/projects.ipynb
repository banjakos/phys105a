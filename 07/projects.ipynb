{
 "cells": [
  {
   "cell_type": "markdown",
   "id": "mineral-drama",
   "metadata": {
    "slideshow": {
     "slide_type": "slide"
    }
   },
   "source": [
    "## PHYS 105A:  Introduction to Scientific Computing\n",
    "\n",
    "# Project Ideas\t\n",
    "\n",
    "Chi-kwan Chan"
   ]
  },
  {
   "cell_type": "markdown",
   "id": "tough-retrieval",
   "metadata": {
    "slideshow": {
     "slide_type": "slide"
    }
   },
   "source": [
    "## Project\n",
    "\n",
    "* Because of the Reading Day, the first project is now due on March 16th 12:00am.\n",
    "* The project has twice as many points as your assignment so we give you more time to work on it.\n",
    "* The goal of the project for you to take what you have learned from this course, and come up with an independent project and finish it.\n",
    "* You have learned python, C, random numbers, and statistics/data processing.\n",
    "* Let's present your project ideas."
   ]
  }
 ],
 "metadata": {
  "celltoolbar": "Slideshow",
  "kernelspec": {
   "display_name": "Python 3",
   "language": "python",
   "name": "python3"
  },
  "language_info": {
   "codemirror_mode": {
    "name": "ipython",
    "version": 3
   },
   "file_extension": ".py",
   "mimetype": "text/x-python",
   "name": "python",
   "nbconvert_exporter": "python",
   "pygments_lexer": "ipython3",
   "version": "3.8.8"
  }
 },
 "nbformat": 4,
 "nbformat_minor": 5
}
